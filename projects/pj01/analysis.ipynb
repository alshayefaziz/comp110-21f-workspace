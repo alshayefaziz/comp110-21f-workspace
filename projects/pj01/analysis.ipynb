{
 "cells": [
  {
   "cell_type": "markdown",
   "metadata": {},
   "source": [
    "# Hypothesis:\n"
   ]
  },
  {
   "cell_type": "markdown",
   "metadata": {},
   "source": [
    "## I think that students with an intended major/minor in Computer Science will have a higher average of >=5 ratings on whether or not they would recommend the course to other students than those who do not intend to major in Computer Science."
   ]
  },
  {
   "cell_type": "markdown",
   "metadata": {},
   "source": [
    "### These two simple lines of code will automatically reload imported modules."
   ]
  },
  {
   "cell_type": "code",
   "execution_count": 1,
   "metadata": {},
   "outputs": [],
   "source": [
    "%reload_ext autoreload\n",
    "%autoreload 2"
   ]
  },
  {
   "cell_type": "code",
   "execution_count": 2,
   "metadata": {},
   "outputs": [],
   "source": [
    "# Abdulaziz Al-Shayef\n",
    "__author__ = \"730397680\""
   ]
  },
  {
   "cell_type": "markdown",
   "metadata": {},
   "source": [
    "# Organize Data"
   ]
  },
  {
   "cell_type": "markdown",
   "metadata": {},
   "source": [
    "### My first step before I can begin to mess around with my data is to read in the survey data from class and then convert that data into a column-oriented table."
   ]
  },
  {
   "cell_type": "code",
   "execution_count": 3,
   "metadata": {},
   "outputs": [],
   "source": [
    "from data_utils import read_csv_rows, columnar\n",
    "\n",
    "rows_of_data: list[dict[str, str]] = read_csv_rows('../../data/survey.csv')\n",
    "column: dict[str, list[str]] = columnar(rows_of_data)"
   ]
  },
  {
   "cell_type": "markdown",
   "metadata": {},
   "source": [
    "## Now we have our data structured and able to be worked with"
   ]
  },
  {
   "cell_type": "markdown",
   "metadata": {},
   "source": [
    "### In the next cell of code I will first use the select funciton to produce a new column-oriented table that will only include the dats sets \"comp_major\" and \"would_recommend\".\n",
    "### I will also use the head funciton to produce the first 10 rows of the data so we can get a general sense of the data we are working with."
   ]
  },
  {
   "cell_type": "code",
   "execution_count": 4,
   "metadata": {},
   "outputs": [
    {
     "data": {
      "text/plain": [
       "{'comp_major': ['No', 'No', 'No', 'No', 'No', 'No', 'No', 'No', 'No', 'No'],\n",
       " 'would_recommend': ['7', '7', '7', '7', '7', '4', '6', '4', '6', '5']}"
      ]
     },
     "execution_count": 4,
     "metadata": {},
     "output_type": "execute_result"
    }
   ],
   "source": [
    "from data_utils import select, head\n",
    "\n",
    "specific_column: dict[str, list[str]] = select(column, [\"comp_major\", \"would_recommend\"])\n",
    "head(specific_column, 10)"
   ]
  },
  {
   "cell_type": "markdown",
   "metadata": {},
   "source": [
    "## UH OH!\n",
    "### I don't know if you caught it or not but there are ratings that are <5 and don't forget that the hypothesis is focusing on ratings >=5 which means that I will have to use helper functions in order to filter out all ratings <5."
   ]
  },
  {
   "cell_type": "markdown",
   "metadata": {},
   "source": [
    "### I have defined a funciton named high_ratings in the next cell of code that will produce a boolean list that will correspond all ratings <5 with False, and all ratings >=5 with True.\n",
    "### I also only printed the first 20 indecies in the list to keep the project looking clean."
   ]
  },
  {
   "cell_type": "code",
   "execution_count": 5,
   "metadata": {},
   "outputs": [
    {
     "name": "stdout",
     "output_type": "stream",
     "text": [
      "[True, True, True, True, True, False, True, False, True, True, False, False, True, True, True, True, True, True, False, False]\n"
     ]
    }
   ],
   "source": [
    "def high_ratings(ratings: list[str], requirement: int) -> list[bool]:\n",
    "    \"\"\"A helper function that will filter out all ratings that are >5.\"\"\"\n",
    "    filtered_list: list[bool] = []\n",
    "    for rating in ratings:\n",
    "        rating = int(rating)\n",
    "        filtered_list.append(rating >= requirement)\n",
    "\n",
    "    return filtered_list\n",
    "\n",
    "rates: list[bool] = high_ratings(specific_column[\"would_recommend\"], 5)\n",
    "print(rates[0:20])"
   ]
  },
  {
   "cell_type": "markdown",
   "metadata": {},
   "source": [
    "### Now we can use another helper function which I defined as filter which will eliminate any data from the subset comp_major that does not have a rating >=5 on whether or not they would recommend the class to other students. \n",
    "### Same as before I only printed the first 20 indecies in the list to keep a visual appeal to the project."
   ]
  },
  {
   "cell_type": "code",
   "execution_count": 6,
   "metadata": {},
   "outputs": [
    {
     "name": "stdout",
     "output_type": "stream",
     "text": [
      "['No', 'No', 'No', 'No', 'No', 'No', 'No', 'No', 'No', 'No', 'No', 'No', 'No', 'No', 'No', 'No', 'No', 'Yes - Minor', 'No', 'No']\n"
     ]
    }
   ],
   "source": [
    "def filter(ratings: list[str], filtered: list[bool]) -> list[str]:\n",
    "    \"\"\"A helper function that will eliminate all data that is <5.\"\"\"\n",
    "    filtered_list: list[str] = []\n",
    "    for n in range(len(filtered)):\n",
    "        if filtered[n]:\n",
    "            filtered_list.append(ratings[n])\n",
    "\n",
    "    return filtered_list\n",
    "\n",
    "\n",
    "ratings_5_or_greater: list[str] = filter(specific_column[\"comp_major\"], rates)\n",
    "print(ratings_5_or_greater[0:20])"
   ]
  },
  {
   "cell_type": "markdown",
   "metadata": {},
   "source": [
    "## We now have a list that contains lots of Yes's and No's. Thanks to the helper functions we know that all of these students gave a rating of 5-7 on whether or not they would recommend the class to other students. "
   ]
  },
  {
   "cell_type": "markdown",
   "metadata": {},
   "source": [
    "# Computation with new Data Sets"
   ]
  },
  {
   "cell_type": "markdown",
   "metadata": {},
   "source": [
    "\n",
    "\n",
    "### Our next step with this project is to use the count function to tally up all the Yes's and No's in order to compute our averages and compare the two. However, before we do that, I have implemeneted a small helper function defined as label and all it will do is relabel the Yes's as \"CS Path Student\" and No's as \"Non-CS Path Student\". This is because our hypothesis groups up the students who intend to major/minor in Computer Science into one group."
   ]
  },
  {
   "cell_type": "code",
   "execution_count": 7,
   "metadata": {},
   "outputs": [
    {
     "name": "stdout",
     "output_type": "stream",
     "text": [
      "['Non-CS Path Student', 'Non-CS Path Student', 'Non-CS Path Student', 'Non-CS Path Student', 'Non-CS Path Student', 'Non-CS Path Student', 'Non-CS Path Student', 'Non-CS Path Student', 'Non-CS Path Student', 'Non-CS Path Student', 'Non-CS Path Student', 'Non-CS Path Student', 'Non-CS Path Student', 'Non-CS Path Student', 'Non-CS Path Student', 'Non-CS Path Student', 'Non-CS Path Student', 'CS Path Student', 'Non-CS Path Student', 'Non-CS Path Student']\n"
     ]
    }
   ],
   "source": [
    "def label(students: list[str]) -> list[str]:\n",
    "    \"\"\"A simple helper function that will just relabel our students in order to read the data easier.\"\"\"\n",
    "    labeled: list[str] = []\n",
    "    for student in students:\n",
    "        if student == \"No\":\n",
    "            labeled.append(\"Non-CS Path Student\")\n",
    "        else:\n",
    "            labeled.append(\"CS Path Student\")\n",
    "\n",
    "    return labeled\n",
    "\n",
    "\n",
    "labeled_students: list[str] = label(ratings_5_or_greater)\n",
    "print(labeled_students[0:20])"
   ]
  },
  {
   "cell_type": "markdown",
   "metadata": {},
   "source": [
    "### Now we are going to use the count function to tally up how many 'CS Path Students' and 'Non-CS Path Students' rated the class >=5 on whether or not they would recommend it to other students."
   ]
  },
  {
   "cell_type": "code",
   "execution_count": 8,
   "metadata": {},
   "outputs": [
    {
     "data": {
      "text/plain": [
       "{'Non-CS Path Student': 267, 'CS Path Student': 156}"
      ]
     },
     "execution_count": 8,
     "metadata": {},
     "output_type": "execute_result"
    }
   ],
   "source": [
    "from data_utils import count\n",
    "\n",
    "tally = count(labeled_students)\n",
    "\n",
    "tally"
   ]
  },
  {
   "cell_type": "markdown",
   "metadata": {},
   "source": [
    "## We are so close to our final destination! \n",
    "### Now we will quickly use the count function to count total amount of CS Path Students and total amount of Non-CS Path Students.\n"
   ]
  },
  {
   "cell_type": "code",
   "execution_count": 9,
   "metadata": {},
   "outputs": [
    {
     "data": {
      "text/plain": [
       "{'No': 404, 'Yes - Minor': 33, 'Yes - BS': 88, 'Yes - BA': 48}"
      ]
     },
     "execution_count": 9,
     "metadata": {},
     "output_type": "execute_result"
    }
   ],
   "source": [
    "total = count(specific_column['comp_major'])\n",
    "\n",
    "total"
   ]
  },
  {
   "cell_type": "markdown",
   "metadata": {},
   "source": [
    "## LAST STEP!\n",
    "### We will now compute the average for CS Path Students who gave a rating of >=5 on whether or not they would recommend the class to other students with all CS Path Students.\n",
    "### We will also compute the average for Non-CS Path students who gave a rating of >=5 on whether or not they would recommend the class to other students with all Non-CS Path Students. \n",
    "### I will then write an if-else print statement for the possibility of either average being higher than the other. "
   ]
  },
  {
   "cell_type": "code",
   "execution_count": 10,
   "metadata": {},
   "outputs": [
    {
     "name": "stdout",
     "output_type": "stream",
     "text": [
      "The average rating for CS Path Students rating the class >=5 as a recommendation to other students is 92.3%\n",
      "The average rating for Non-CS Path Students rating the class >=5 as a recommendation to other students is 66.1%\n",
      "CS Path Students have a higher average >=5 ratings when it comes to recommending the class to other students compared to Non-CS Path Students.\n"
     ]
    }
   ],
   "source": [
    "cs_path_5_up: float = tally['CS Path Student']\n",
    "cs_path_all: float = total['Yes - Minor'] + total['Yes - BS'] + total['Yes - BA']\n",
    "cs_path_average: float = round((cs_path_5_up / cs_path_all) * 100, 1)\n",
    "\n",
    "non_cs_path_5_up: float = tally['Non-CS Path Student']\n",
    "non_cs_path_all: float = total['No']\n",
    "non_cs_path_average: float = round((non_cs_path_5_up / non_cs_path_all) * 100, 1)\n",
    "\n",
    "print(f\"The average rating for CS Path Students rating the class >=5 as a recommendation to other students is {cs_path_average}%\")\n",
    "print(f\"The average rating for Non-CS Path Students rating the class >=5 as a recommendation to other students is {non_cs_path_average}%\")\n",
    "\n",
    "if cs_path_average > non_cs_path_average:\n",
    "    print(\"CS Path Students have a higher average >=5 ratings when it comes to recommending the class to other students compared to Non-CS Path Students.\")\n",
    "else:\n",
    "    print(\"Non-CS Path Students have a higher average >=5 ratings when it comes to recommending the class to other students compared to CS Path Students.\")"
   ]
  },
  {
   "cell_type": "markdown",
   "metadata": {},
   "source": [
    "# Visuals"
   ]
  },
  {
   "cell_type": "markdown",
   "metadata": {},
   "source": [
    "### In this next cell of code I will be using the seaborn function to put our information onto a bar plot to get a visual sense of the comparison of our data."
   ]
  },
  {
   "cell_type": "code",
   "execution_count": 11,
   "metadata": {},
   "outputs": [],
   "source": [
    "import seaborn"
   ]
  },
  {
   "cell_type": "code",
   "execution_count": 12,
   "metadata": {},
   "outputs": [
    {
     "data": {
      "text/plain": [
       "<AxesSubplot:>"
      ]
     },
     "execution_count": 12,
     "metadata": {},
     "output_type": "execute_result"
    },
    {
     "data": {
      "image/png": "[encoded data removed]",
      "text/plain": [
       "<Figure size 432x288 with 1 Axes>"
      ]
     },
     "metadata": {
      "needs_background": "light"
     },
     "output_type": "display_data"
    }
   ],
   "source": [
    "seaborn.barplot(x=[\"CS Students\", \"Non-CS Students\", \"CS Rated 5-7\", \"Non-CS Rated 5-7\"], y=[cs_path_all, non_cs_path_all, cs_path_5_up, non_cs_path_5_up])"
   ]
  },
  {
   "cell_type": "markdown",
   "metadata": {},
   "source": [
    "# Conclusion\n"
   ]
  },
  {
   "cell_type": "markdown",
   "metadata": {},
   "source": [
    "### In conclusion 92.3% of students who plan to major/minor in Computer Scince rated the class a 5-7 on whether or not they would recommend the course to other students. 66.1% of students who do not have an intention of pursuing a major/minor in Computer Scinece rated the class a 5-7 on whether or not they would recommend the course to other students. This concludes that students with an intended Computer Science Path have a higher average of ratings that fall between 5-7 comparted to students that do not intend to stay on the Computer Science path. This drastic difference of 26.2% most likely comes from the fact that most non Comp Sci students that are required to take Comp 110 feel as if the class has no relevance to their major. \n",
    "\n",
    "### Now an interesting question that came to my mind is would the 33.9% of Non-CS Path Students who had a low rating on whether or not they would recommend the class to other students line up pretty equally with the data on their thoughts of the pace of the class, whether or not the class is interesting, or the difficulty of the class."
   ]
  }
 ],
 "metadata": {
  "interpreter": {
   "hash": "c513aefa34600cfb2a217d828e7df60733c92b1547c0064f628bbf60fd827104"
  },
  "kernelspec": {
   "display_name": "Python 3.9.6 64-bit",
   "name": "python3"
  },
  "language_info": {
   "codemirror_mode": {
    "name": "ipython",
    "version": 3
   },
   "file_extension": ".py",
   "mimetype": "text/x-python",
   "name": "python",
   "nbconvert_exporter": "python",
   "pygments_lexer": "ipython3",
   "version": "3.9.6"
  },
  "orig_nbformat": 4
 },
 "nbformat": 4,
 "nbformat_minor": 2
}
